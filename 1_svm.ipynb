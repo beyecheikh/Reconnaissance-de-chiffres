{
 "cells": [
  {
   "cell_type": "code",
   "execution_count": 1,
   "metadata": {
    "collapsed": true
   },
   "outputs": [],
   "source": [
    "import numpy as np\n",
    "import pandas as pd\n",
    "\n",
    "np.random.seed(0)"
   ]
  },
  {
   "cell_type": "code",
   "execution_count": 2,
   "metadata": {
    "pycharm": {
     "name": "#%%\n"
    }
   },
   "outputs": [],
   "source": [
    "# load full dataset\n",
    "train = pd.read_csv(\"data/train.csv.zip\")"
   ]
  },
  {
   "cell_type": "code",
   "execution_count": 6,
   "metadata": {
    "pycharm": {
     "name": "#%%\n"
    }
   },
   "outputs": [
    {
     "data": {
      "text/plain": [
       "0.9918330308529946"
      ]
     },
     "execution_count": 6,
     "metadata": {},
     "output_type": "execute_result"
    }
   ],
   "source": [
    "# restrict to 0 and 1\n",
    "train_01 = train[train.label.isin([0, 1])]\n",
    "\n",
    "# build model\n",
    "from sklearn.model_selection import train_test_split\n",
    "from sklearn.pipeline import Pipeline\n",
    "from sklearn.preprocessing import StandardScaler\n",
    "from sklearn.svm import SVC\n",
    "\n",
    "y_01 = train_01[\"label\"]\n",
    "X_01 = train_01.drop(\"label\", axis = 1)\n",
    "\n",
    "X_01_train, X_01_test, y_01_train, y_01_test = train_test_split(X_01, y_01, random_state = 0)\n",
    "\n",
    "classifier_01 = Pipeline(\n",
    "    steps = [(\"preprocessor\", StandardScaler()), (\"classifier\", SVC())]\n",
    ")\n",
    "classifier_01.fit(X_01_train, y_01_train)\n",
    "classifier_01.score(X_01_test, y_01_test)"
   ]
  },
  {
   "cell_type": "code",
   "execution_count": 7,
   "metadata": {
    "pycharm": {
     "name": "#%%\n"
    }
   },
   "outputs": [
    {
     "data": {
      "text/plain": [
       "<Figure size 432x288 with 0 Axes>"
      ]
     },
     "metadata": {},
     "output_type": "display_data"
    },
    {
     "data": {
      "image/png": "[encoded data removed]",
      "text/plain": [
       "<Figure size 432x288 with 10 Axes>"
      ]
     },
     "metadata": {
      "needs_background": "light"
     },
     "output_type": "display_data"
    }
   ],
   "source": [
    "import matplotlib.pyplot as plt\n",
    "import matplotlib.cm as cm\n",
    "\n",
    "train_mean = train.groupby(\"label\").mean()\n",
    "\n",
    "plt.figure()\n",
    "_, axs = plt.subplots(2, 5)\n",
    "for i in range(len(train_mean.index)):\n",
    "    idx = train_mean.index[i]\n",
    "    ax = axs[int(i/5), i%5]\n",
    "    ax.imshow(train_mean.loc[idx].to_numpy().reshape((28, 28)), cmap = cm.Greys)\n",
    "    ax.set_title(idx)\n",
    "    ax.axis('off')\n",
    "plt.show()"
   ]
  },
  {
   "cell_type": "code",
   "execution_count": 8,
   "metadata": {
    "pycharm": {
     "name": "#%%\n"
    }
   },
   "outputs": [
    {
     "name": "stdout",
     "output_type": "stream",
     "text": [
      "0.7218840772076086\n",
      "(4, 9)\n"
     ]
    }
   ],
   "source": [
    "from skimage.metrics import structural_similarity as ssim\n",
    "\n",
    "max_ssim = -float(\"inf\")\n",
    "max_ssim_pair = (None, None)\n",
    "for i in train_mean.index:\n",
    "    imi = train_mean.loc[i].to_numpy().reshape((28, 28))\n",
    "    for j in train_mean.index:\n",
    "        if i == j:\n",
    "            continue\n",
    "        imj = train_mean.loc[j].to_numpy().reshape((28, 28))\n",
    "        ssim_ij = ssim(imi, imj)\n",
    "        if ssim_ij > max_ssim:\n",
    "            max_ssim = ssim_ij\n",
    "            max_ssim_pair = (i, j)\n",
    "\n",
    "print(max_ssim)\n",
    "print(max_ssim_pair)"
   ]
  },
  {
   "cell_type": "code",
   "execution_count": 9,
   "metadata": {
    "pycharm": {
     "name": "#%%\n"
    }
   },
   "outputs": [
    {
     "data": {
      "text/plain": [
       "0.9767554479418886"
      ]
     },
     "execution_count": 9,
     "metadata": {},
     "output_type": "execute_result"
    }
   ],
   "source": [
    "# restrict to the closest digits\n",
    "train_49 = train[train.label.isin([4, 9])]\n",
    "\n",
    "# build model\n",
    "from sklearn.model_selection import train_test_split\n",
    "from sklearn.pipeline import Pipeline\n",
    "from sklearn.preprocessing import StandardScaler\n",
    "from sklearn.svm import SVC\n",
    "\n",
    "y_49 = train_49[\"label\"]\n",
    "X_49 = train_49.drop(\"label\", axis = 1)\n",
    "\n",
    "X_49_train, X_49_test, y_49_train, y_49_test = train_test_split(X_49, y_49, random_state = 0)\n",
    "\n",
    "classifier_49 = Pipeline(\n",
    "    steps = [(\"preprocessor\", StandardScaler()), (\"classifier\", SVC())]\n",
    ")\n",
    "classifier_49.fit(X_49_train, y_49_train)\n",
    "classifier_49.score(X_49_test, y_49_test)"
   ]
  },
  {
   "cell_type": "code",
   "execution_count": 10,
   "metadata": {
    "pycharm": {
     "name": "#%%\n"
    }
   },
   "outputs": [
    {
     "data": {
      "text/plain": [
       "0.9586666666666667"
      ]
     },
     "execution_count": 10,
     "metadata": {},
     "output_type": "execute_result"
    }
   ],
   "source": [
    "# build model\n",
    "from sklearn.model_selection import train_test_split\n",
    "from sklearn.pipeline import Pipeline\n",
    "from sklearn.preprocessing import StandardScaler\n",
    "from sklearn.svm import SVC\n",
    "\n",
    "y = train[\"label\"]\n",
    "X = train.drop(\"label\", axis = 1)\n",
    "\n",
    "X_train, X_test, y_train, y_test = train_test_split(X, y, random_state = 0)\n",
    "\n",
    "classifier = Pipeline(\n",
    "    steps=[(\"preprocessor\", StandardScaler()), (\"classifier\", SVC())]\n",
    ")\n",
    "classifier.fit(X_train, y_train)\n",
    "classifier.score(X_test, y_test)"
   ]
  },
  {
   "cell_type": "code",
   "execution_count": 11,
   "metadata": {
    "pycharm": {
     "name": "#%%\n"
    }
   },
   "outputs": [],
   "source": [
    "test = pd.read_csv(\"data/test.csv.zip\")"
   ]
  },
  {
   "cell_type": "code",
   "execution_count": 15,
   "metadata": {
    "pycharm": {
     "name": "#%%\n"
    }
   },
   "outputs": [],
   "source": [
    "results = classifier.predict(test)  # vect of classes\n",
    "results = pd.Series(results, name = \"Label\")"
   ]
  },
  {
   "cell_type": "code",
   "execution_count": 14,
   "metadata": {
    "pycharm": {
     "name": "#%%\n"
    }
   },
   "outputs": [],
   "source": [
    "submission = pd.concat([pd.Series(range(1, len(results)+1), name = \"ImageId\"), results], axis = 1)\n",
    "submission.to_csv(\"data/submission_svm.csv\", index = False)"
   ]
  }
 ],
 "metadata": {
  "kernelspec": {
   "display_name": "Python 3 (ipykernel)",
   "language": "python",
   "name": "python3"
  },
  "language_info": {
   "codemirror_mode": {
    "name": "ipython",
    "version": 3
   },
   "file_extension": ".py",
   "mimetype": "text/x-python",
   "name": "python",
   "nbconvert_exporter": "python",
   "pygments_lexer": "ipython3",
   "version": "3.9.7"
  }
 },
 "nbformat": 4,
 "nbformat_minor": 1
}
