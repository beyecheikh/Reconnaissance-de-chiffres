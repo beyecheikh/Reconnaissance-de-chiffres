{
 "cells": [
  {
   "cell_type": "markdown",
   "metadata": {
    "id": "RPhiV8_AQE3u"
   },
   "source": [
    "## CNN feature extraction workflow:\n",
    "\n",
    "1. image\n",
    "2. filter(s) (several layers might be used to grasp all the images' complexity)\n",
    "  * common filter size: 3x3\n",
    "  * filter depth: n color channels ; 1 for grayscale - 3 for RGB\n",
    "  * filter stride (displacement in pixels) - common: 2\n",
    "3. feature map\n",
    "4. activation function/layer (increase non-linearity) - typically ReLU (Rectified Linear Unit) (noise?)\n",
    "5. pooling layer: down sampling to prevent over fitting\n",
    "  * resulting map: to be defined (2x2, 3x3, ... ?)\n",
    "  * pooling types: max, mean, sum. Max is the most commonly used\n",
    "6. flattening\n",
    "7. densely (fully) connected layers / ANN (artificial neural network): combine features into attributes used for classification\n",
    "  * backpropagation is used to trained the network by updating neural weights influencing the next layer\n",
    "\n",
    "* 2-6: data preparation\n",
    "* 7: what gets trained\n"
   ]
  },
  {
   "cell_type": "code",
   "execution_count": 1,
   "metadata": {
    "execution": {
     "iopub.execute_input": "2021-12-04T06:26:00.076281Z",
     "iopub.status.busy": "2021-12-04T06:26:00.075929Z",
     "iopub.status.idle": "2021-12-04T06:26:00.103046Z",
     "shell.execute_reply": "2021-12-04T06:26:00.102393Z",
     "shell.execute_reply.started": "2021-12-04T06:26:00.076156Z"
    },
    "id": "_yu4VTRSTFbM"
   },
   "outputs": [],
   "source": [
    "import numpy as np\n",
    "\n",
    "np.random.seed(0)"
   ]
  },
  {
   "cell_type": "code",
   "execution_count": 2,
   "metadata": {
    "execution": {
     "iopub.execute_input": "2021-12-04T06:26:00.106154Z",
     "iopub.status.busy": "2021-12-04T06:26:00.105964Z",
     "iopub.status.idle": "2021-12-04T06:26:03.645326Z",
     "shell.execute_reply": "2021-12-04T06:26:03.644426Z",
     "shell.execute_reply.started": "2021-12-04T06:26:00.106130Z"
    },
    "id": "82I46GOtVImP"
   },
   "outputs": [],
   "source": [
    "# load full dataset\n",
    "import pandas as pd\n",
    "\n",
    "train = pd.read_csv(\"data/train.csv.zip\")"
   ]
  },
  {
   "cell_type": "code",
   "execution_count": 3,
   "metadata": {
    "execution": {
     "iopub.execute_input": "2021-12-04T06:26:03.646937Z",
     "iopub.status.busy": "2021-12-04T06:26:03.646695Z",
     "iopub.status.idle": "2021-12-04T06:26:08.790840Z",
     "shell.execute_reply": "2021-12-04T06:26:08.790006Z",
     "shell.execute_reply.started": "2021-12-04T06:26:03.646905Z"
    },
    "id": "gV1q6V38VMW3"
   },
   "outputs": [],
   "source": [
    "# split X, y\n",
    "\n",
    "y = train[\"label\"]\n",
    "X = train.drop(\"label\", axis = 1)\n",
    "\n",
    "# data preprocessing\n",
    "X = X / 255.0\n",
    "X = X.to_numpy().reshape(-1, 28, 28, 1)\n",
    "\n",
    "y = pd.get_dummies(y)\n",
    "n_classes = y.shape[1]\n",
    "\n",
    "# data augmentation\n",
    "from tensorflow import keras\n",
    "\n",
    "datagen = keras.preprocessing.image.ImageDataGenerator(\n",
    "    rotation_range = 10, height_shift_range = 0.1, width_shift_range = 0.1, \n",
    "    zoom_range = 0.1,\n",
    "    validation_split = 0.2\n",
    ")\n",
    "datagen.fit(X)"
   ]
  },
  {
   "cell_type": "code",
   "execution_count": 4,
   "metadata": {
    "collapsed": true,
    "execution": {
     "iopub.execute_input": "2021-12-04T06:26:08.792428Z",
     "iopub.status.busy": "2021-12-04T06:26:08.792155Z",
     "iopub.status.idle": "2021-12-04T06:26:11.134914Z",
     "shell.execute_reply": "2021-12-04T06:26:11.133935Z",
     "shell.execute_reply.started": "2021-12-04T06:26:08.792394Z"
    },
    "id": "UuJaQVIWZ-1Y",
    "jupyter": {
     "outputs_hidden": true
    }
   },
   "outputs": [],
   "source": [
    "# model architecture\n",
    "\n",
    "model = keras.Sequential()\n",
    "\n",
    "# 1st CNN layer\n",
    "model.add(keras.layers.Conv2D(128, 5, input_shape = X.shape[1:],\n",
    "                              activation = \"relu\", padding = \"same\"))\n",
    "# Normalise outputs from this layer / inputs of the next layer\n",
    "model.add(keras.layers.BatchNormalization())\n",
    "\n",
    "# 2nd CNN layer\n",
    "model.add(keras.layers.Conv2D(128, 5, activation = \"relu\", padding = \"same\"))\n",
    "model.add(keras.layers.BatchNormalization())\n",
    "# Prevent overfitting\n",
    "model.add(keras.layers.MaxPooling2D(2))\n",
    "model.add(keras.layers.Dropout(0.2))\n",
    "\n",
    "# 3rd CNN layer\n",
    "model.add(keras.layers.Conv2D(128, 3, activation = \"relu\", padding = \"same\"))\n",
    "model.add(keras.layers.BatchNormalization())\n",
    "\n",
    "# 4th CNN layer\n",
    "model.add(keras.layers.Conv2D(128, 3, activation = \"relu\", padding = \"same\"))\n",
    "model.add(keras.layers.BatchNormalization())\n",
    "model.add(keras.layers.MaxPooling2D(2))\n",
    "model.add(keras.layers.Dropout(0.2))\n",
    "\n",
    "# 5th CNN layer\n",
    "model.add(keras.layers.Conv2D(128, 3, activation = \"relu\", padding = \"same\"))\n",
    "model.add(keras.layers.BatchNormalization())\n",
    "model.add(keras.layers.MaxPooling2D(2))\n",
    "model.add(keras.layers.Dropout(0.2))\n",
    "\n",
    "# ANN\n",
    "# 1st layer\n",
    "model.add(keras.layers.Flatten())\n",
    "model.add(keras.layers.Dense(256, activation = \"relu\"))\n",
    "model.add(keras.layers.BatchNormalization())\n",
    "model.add(keras.layers.Dropout(0.2))\n",
    "# Output layer\n",
    "model.add(keras.layers.Dense(n_classes, activation = \"softmax\"))\n",
    "\n",
    "model.compile(loss = \"categorical_crossentropy\", \n",
    "              optimizer = keras.optimizers.Adam(learning_rate = 0.001), \n",
    "              metrics = \"categorical_accuracy\")"
   ]
  },
  {
   "cell_type": "code",
   "execution_count": 5,
   "metadata": {
    "execution": {
     "iopub.execute_input": "2021-12-04T06:26:11.137551Z",
     "iopub.status.busy": "2021-12-04T06:26:11.137068Z",
     "iopub.status.idle": "2021-12-04T06:26:11.155004Z",
     "shell.execute_reply": "2021-12-04T06:26:11.154250Z",
     "shell.execute_reply.started": "2021-12-04T06:26:11.137511Z"
    },
    "id": "YbGNF2KqppZI"
   },
   "outputs": [],
   "source": [
    "print(model.summary())"
   ]
  },
  {
   "cell_type": "code",
   "execution_count": 6,
   "metadata": {
    "execution": {
     "iopub.execute_input": "2021-12-04T06:26:11.156503Z",
     "iopub.status.busy": "2021-12-04T06:26:11.156189Z",
     "iopub.status.idle": "2021-12-04T06:37:04.518292Z",
     "shell.execute_reply": "2021-12-04T06:37:04.517527Z",
     "shell.execute_reply.started": "2021-12-04T06:26:11.156453Z"
    },
    "id": "qOVjGVaVIgd6"
   },
   "outputs": [],
   "source": [
    "from tensorflow.keras.callbacks import EarlyStopping, ReduceLROnPlateau\n",
    "\n",
    "early_stopping = EarlyStopping(monitor = \"val_categorical_accuracy\", \n",
    "                               patience = 10, restore_best_weights = True)\n",
    "lr_reduction = ReduceLROnPlateau(monitor = \"val_categorical_accuracy\", \n",
    "                                 patience = 3, verbose = 1, factor = 0.5,\n",
    "                                 min_lr = 0.00001)\n",
    "\n",
    "# ~99.5% acc\n",
    "batch_size = 128\n",
    "history = model.fit(\n",
    "    datagen.flow(X, y, batch_size = batch_size, subset = \"training\"),\n",
    "    validation_data = datagen.flow(X, y, batch_size = batch_size, \n",
    "                                   subset = \"validation\"),\n",
    "    epochs = 100, callbacks = [early_stopping, lr_reduction])\n",
    "# Model evaluation\n",
    "scores = model.evaluate(datagen.flow(X, y, subset= \"validation\"), verbose = 0)\n",
    "print(\"Accuracy: %.2f%%\" % (scores[1]*100))"
   ]
  },
  {
   "cell_type": "code",
   "execution_count": 10,
   "metadata": {
    "execution": {
     "iopub.execute_input": "2021-12-04T06:38:39.192351Z",
     "iopub.status.busy": "2021-12-04T06:38:39.192081Z",
     "iopub.status.idle": "2021-12-04T06:38:39.403674Z",
     "shell.execute_reply": "2021-12-04T06:38:39.402958Z",
     "shell.execute_reply.started": "2021-12-04T06:38:39.192318Z"
    }
   },
   "outputs": [],
   "source": [
    "import matplotlib.pyplot as plt\n",
    "\n",
    "plt.subplot()\n",
    "plt.plot(history.history[\"categorical_accuracy\"], label = \"training\")\n",
    "plt.plot(history.history[\"val_categorical_accuracy\"], label = \"validation\")\n",
    "plt.xlabel(\"Epoch\")\n",
    "plt.ylabel(\"Accuracy\")\n",
    "plt.legend()\n",
    "\n",
    "plt.show()"
   ]
  },
  {
   "cell_type": "code",
   "execution_count": 12,
   "metadata": {
    "execution": {
     "iopub.execute_input": "2021-12-04T06:43:20.181160Z",
     "iopub.status.busy": "2021-12-04T06:43:20.180458Z",
     "iopub.status.idle": "2021-12-04T06:43:24.758225Z",
     "shell.execute_reply": "2021-12-04T06:43:24.757215Z",
     "shell.execute_reply.started": "2021-12-04T06:43:20.181123Z"
    }
   },
   "outputs": [],
   "source": [
    "test = pd.read_csv(\"data/test.csv.zip\")\n",
    "test = test / 255.0\n",
    "test = test.to_numpy().reshape(-1, 28, 28, 1)"
   ]
  },
  {
   "cell_type": "code",
   "execution_count": 16,
   "metadata": {
    "execution": {
     "iopub.execute_input": "2021-12-04T06:45:33.011625Z",
     "iopub.status.busy": "2021-12-04T06:45:33.010878Z",
     "iopub.status.idle": "2021-12-04T06:45:35.970741Z",
     "shell.execute_reply": "2021-12-04T06:45:35.969672Z",
     "shell.execute_reply.started": "2021-12-04T06:45:33.011586Z"
    }
   },
   "outputs": [],
   "source": [
    "results = model.predict(test) # mat of 0 / 1\n",
    "results = np.argmax(results, axis = 1) # vect of classes\n",
    "results = pd.Series(results, name = \"Label\")"
   ]
  },
  {
   "cell_type": "code",
   "execution_count": 22,
   "metadata": {
    "execution": {
     "iopub.execute_input": "2021-12-04T06:51:42.591324Z",
     "iopub.status.busy": "2021-12-04T06:51:42.590600Z",
     "iopub.status.idle": "2021-12-04T06:51:42.645526Z",
     "shell.execute_reply": "2021-12-04T06:51:42.644758Z",
     "shell.execute_reply.started": "2021-12-04T06:51:42.591287Z"
    }
   },
   "outputs": [],
   "source": [
    "submission = pd.concat([pd.Series(range(1, len(results)+1), name = \"ImageId\"), results], axis = 1)\n",
    "submission.to_csv(\"data/submission_cnn.csv\", index = False)"
   ]
  }
 ],
 "metadata": {
  "kernelspec": {
   "display_name": "Python 3 (ipykernel)",
   "language": "python",
   "name": "python3"
  },
  "language_info": {
   "codemirror_mode": {
    "name": "ipython",
    "version": 3
   },
   "file_extension": ".py",
   "mimetype": "text/x-python",
   "name": "python",
   "nbconvert_exporter": "python",
   "pygments_lexer": "ipython3",
   "version": "3.9.7"
  }
 },
 "nbformat": 4,
 "nbformat_minor": 4
}
